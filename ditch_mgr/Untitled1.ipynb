{
 "metadata": {
  "name": "",
  "signature": "sha256:1be52851ce94887f9f394020f9d96cc670f86dc6136c8ac75e443388fa27a185"
 },
 "nbformat": 3,
 "nbformat_minor": 0,
 "worksheets": [
  {
   "cells": [
    {
     "cell_type": "code",
     "collapsed": false,
     "input": [
      "from celery import Celery\n",
      "\n",
      "app = Celery('mgr.tasks', \n",
      "             broker='redis://gardenbuzz.com:6379/0',\n",
      "             backend='redis://gardenbuzz.com:6379/1')\n",
      "\n",
      "@app.task\n",
      "def status():\n",
      "    pass\n",
      "\n",
      "@app.task\n",
      "def read_sensors():\n",
      "    pass\n",
      "\n",
      "@app.task\n",
      "def pump_enable(bEnable):\n",
      "    pass\n",
      "\n",
      "\n",
      "@app.task\n",
      "def south_enable(bEnable):\n",
      "    pass\n",
      "\n",
      "@app.task\n",
      "def north_enable(bEnable):\n",
      "    pass\n",
      "\n",
      "def showstatus():\n",
      "    r = status.delay()\n",
      "    while not r.ready():\n",
      "        pass\n",
      "    \n",
      "    print(\"Status:%s\" % r.get())\n",
      "    \n",
      "def pump(bEnable):\n",
      "    r = pump_enable.delay(bEnable)\n",
      "    while not r.ready():\n",
      "        pass\n",
      "    \n",
      "    showstatus()\n",
      "    "
     ],
     "language": "python",
     "metadata": {},
     "outputs": [],
     "prompt_number": 10
    },
    {
     "cell_type": "code",
     "collapsed": false,
     "input": [
      "status.name"
     ],
     "language": "python",
     "metadata": {},
     "outputs": [
      {
       "metadata": {},
       "output_type": "pyout",
       "prompt_number": 2,
       "text": [
        "'mgr.tasks.status'"
       ]
      }
     ],
     "prompt_number": 2
    },
    {
     "cell_type": "code",
     "collapsed": false,
     "input": [
      "showstatus()"
     ],
     "language": "python",
     "metadata": {},
     "outputs": [
      {
       "output_type": "stream",
       "stream": "stdout",
       "text": [
        "Status:{u'Ditch': u'780', u'PC': u'0', u'NC': u'0', u'STen': u'0', u'N': u'0', u'P': u'0', u'S': u'0', u'ST': u'0', u'SC': u'0', u'Sump': u'28'}\n"
       ]
      }
     ],
     "prompt_number": 11
    },
    {
     "cell_type": "code",
     "collapsed": false,
     "input": [
      "pump(True)"
     ],
     "language": "python",
     "metadata": {},
     "outputs": [
      {
       "output_type": "stream",
       "stream": "stdout",
       "text": [
        "Status:{u'Ditch': u'780', u'PC': u'1', u'NC': u'0', u'STen': u'0', u'N': u'0', u'P': u'1', u'S': u'0', u'ST': u'0', u'SC': u'0', u'Sump': u'28'}\n"
       ]
      }
     ],
     "prompt_number": 12
    },
    {
     "cell_type": "code",
     "collapsed": false,
     "input": [
      "pump(False)"
     ],
     "language": "python",
     "metadata": {},
     "outputs": [
      {
       "output_type": "stream",
       "stream": "stdout",
       "text": [
        "Status:{u'Ditch': u'780', u'PC': u'0', u'NC': u'0', u'STen': u'0', u'N': u'0', u'P': u'0', u'S': u'0', u'ST': u'0', u'SC': u'0', u'Sump': u'28'}\n"
       ]
      }
     ],
     "prompt_number": 13
    },
    {
     "cell_type": "code",
     "collapsed": false,
     "input": [],
     "language": "python",
     "metadata": {},
     "outputs": []
    }
   ],
   "metadata": {}
  }
 ]
}