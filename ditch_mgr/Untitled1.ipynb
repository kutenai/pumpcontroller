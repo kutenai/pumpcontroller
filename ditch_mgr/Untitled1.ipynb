{
 "metadata": {
  "name": "",
  "signature": "sha256:2121efc64e593cceabb5e6f15d3c8afd1352a5dfd399899392ae779326f85dd5"
 },
 "nbformat": 3,
 "nbformat_minor": 0,
 "worksheets": [
  {
   "cells": [
    {
     "cell_type": "code",
     "collapsed": false,
     "input": [
      "from celery import Celery\n",
      "\n",
      "app = Celery('mgr.tasks', \n",
      "             broker='redis://gardenbuzz.com:6379/0',\n",
      "             backend='redis://gardenbuzz.com:6379/1')\n",
      "\n",
      "app.conf.update(\n",
      "    CELERY_TASK_SERIALIZER = 'json',\n",
      "    CELERY_RESULT_SERIALIZER = 'json',\n",
      "    CELERY_ACCEPT_CONTENT=['json'],\n",
      ")\n",
      "\n",
      "app2 = Celery('gbmgr.tasks', \n",
      "             broker='redis://gardenbuzz.com:6379/2',\n",
      "             backend='redis://gardenbuzz.com:6379/3')\n",
      "\n",
      "app2.conf.update(\n",
      "    CELERY_TASK_SERIALIZER = 'json',\n",
      "    CELERY_RESULT_SERIALIZER = 'json',\n",
      "    CELERY_ACCEPT_CONTENT=['json'],\n",
      ")\n",
      "\n",
      "@app2.task\n",
      "def onstatus(d):\n",
      "    print(\"Received Status\")\n",
      "\n",
      "@app.task\n",
      "def status():\n",
      "    pass\n",
      "\n",
      "def showstatus():\n",
      "    \"\"\"\n",
      "    Chain onstatus to status\n",
      "    \"\"\"\n",
      "    status.apply_async(link=onstatus.s())\n",
      "    \n"
     ],
     "language": "python",
     "metadata": {},
     "outputs": [],
     "prompt_number": 1
    },
    {
     "cell_type": "code",
     "collapsed": false,
     "input": [
      "status.name"
     ],
     "language": "python",
     "metadata": {},
     "outputs": [
      {
       "metadata": {},
       "output_type": "pyout",
       "prompt_number": 3,
       "text": [
        "'mgr.tasks.status'"
       ]
      }
     ],
     "prompt_number": 3
    },
    {
     "cell_type": "code",
     "collapsed": false,
     "input": [
      "onstatus.name"
     ],
     "language": "python",
     "metadata": {},
     "outputs": [
      {
       "metadata": {},
       "output_type": "pyout",
       "prompt_number": 2,
       "text": [
        "'gbmgr.tasks.onstatus'"
       ]
      }
     ],
     "prompt_number": 2
    },
    {
     "cell_type": "code",
     "collapsed": false,
     "input": [
      "status.apply_async(link=onstatus.s())"
     ],
     "language": "python",
     "metadata": {},
     "outputs": [
      {
       "metadata": {},
       "output_type": "pyout",
       "prompt_number": 4,
       "text": [
        "<AsyncResult: b75d9fb7-aa3e-4132-8403-31c9968ff42f>"
       ]
      }
     ],
     "prompt_number": 4
    },
    {
     "cell_type": "code",
     "collapsed": false,
     "input": [
      "pump(False)"
     ],
     "language": "python",
     "metadata": {},
     "outputs": [
      {
       "output_type": "stream",
       "stream": "stdout",
       "text": [
        "Status:{u'Ditch': u'780', u'PC': u'0', u'NC': u'0', u'STen': u'0', u'N': u'0', u'P': u'0', u'S': u'0', u'ST': u'0', u'SC': u'0', u'Sump': u'28'}\n"
       ]
      }
     ],
     "prompt_number": 13
    },
    {
     "cell_type": "code",
     "collapsed": false,
     "input": [],
     "language": "python",
     "metadata": {},
     "outputs": []
    }
   ],
   "metadata": {}
  }
 ]
}