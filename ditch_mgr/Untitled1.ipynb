{
 "metadata": {
  "name": "",
  "signature": "sha256:9b60107597f794bc1311e7093b837b3f22b37b749c101e0cbf89e2fd5b41488d"
 },
 "nbformat": 3,
 "nbformat_minor": 0,
 "worksheets": [
  {
   "cells": [
    {
     "cell_type": "code",
     "collapsed": false,
     "input": [
      "from celery import Celery\n",
      "\n",
      "app = Celery('mgr.tasks', \n",
      "             broker='redis://gardenbuzz.com:6379/0',\n",
      "             backend='redis://gardenbuzz.com:6379/1')\n",
      "\n",
      "app.conf.update(\n",
      "    CELERY_TASK_SERIALIZER = 'json',\n",
      "    CELERY_RESULT_SERIALIZER = 'json',\n",
      "    CELERY_ACCEPT_CONTENT=['json'],\n",
      ")\n",
      "\n",
      "@app.task\n",
      "def status():\n",
      "    pass\n",
      "\n",
      "@app.task\n",
      "def read_sensors():\n",
      "    pass\n",
      "\n",
      "@app.task\n",
      "def pump_enable(bEnable):\n",
      "    pass\n",
      "\n",
      "\n",
      "@app.task\n",
      "def south_enable(bEnable):\n",
      "    pass\n",
      "\n",
      "@app.task\n",
      "def north_enable(bEnable):\n",
      "    pass\n",
      "\n",
      "@app.task\n",
      "def add(x,y):\n",
      "    return x + y\n",
      "\n",
      "@app.task\n",
      "def mul(x,y):\n",
      "    return x * y\n",
      "\n",
      "\n",
      "\n",
      "def showstatus():\n",
      "    r = status.delay()\n",
      "    while not r.ready():\n",
      "        pass\n",
      "    \n",
      "    print(\"Status:%s\" % r.get())\n",
      "    \n",
      "def pump(bEnable):\n",
      "    r = pump_enable.delay(bEnable)\n",
      "    while not r.ready():\n",
      "        pass\n",
      "    \n",
      "    showstatus()\n",
      "    "
     ],
     "language": "python",
     "metadata": {},
     "outputs": [],
     "prompt_number": 1
    },
    {
     "cell_type": "code",
     "collapsed": false,
     "input": [
      "status.name"
     ],
     "language": "python",
     "metadata": {},
     "outputs": [
      {
       "metadata": {},
       "output_type": "pyout",
       "prompt_number": 2,
       "text": [
        "'mgr.tasks.status'"
       ]
      }
     ],
     "prompt_number": 2
    },
    {
     "cell_type": "code",
     "collapsed": false,
     "input": [
      "add.delay(2,2).get()"
     ],
     "language": "python",
     "metadata": {},
     "outputs": [
      {
       "metadata": {},
       "output_type": "pyout",
       "prompt_number": 3,
       "text": [
        "4"
       ]
      }
     ],
     "prompt_number": 3
    },
    {
     "cell_type": "code",
     "collapsed": false,
     "input": [
      "showstatus()"
     ],
     "language": "python",
     "metadata": {},
     "outputs": [
      {
       "output_type": "stream",
       "stream": "stdout",
       "text": [
        "Status:{\"Sump\": \"27\", \"P\": \"0\", \"NC\": \"0\", \"STen\": \"0\", \"N\": \"0\", \"PC\": \"0\", \"S\": \"0\", \"ST\": \"0\", \"SC\": \"0\", \"Ditch\": \"760\"}\n"
       ]
      }
     ],
     "prompt_number": 3
    },
    {
     "cell_type": "code",
     "collapsed": false,
     "input": [
      "pump(True)"
     ],
     "language": "python",
     "metadata": {},
     "outputs": [
      {
       "output_type": "stream",
       "stream": "stdout",
       "text": [
        "Status:{\"Sump\": \"27\", \"P\": \"0\", \"NC\": \"0\", \"STen\": \"0\", \"N\": \"0\", \"PC\": \"0\", \"S\": \"0\", \"ST\": \"0\", \"SC\": \"0\", \"Ditch\": \"759\"}\n"
       ]
      }
     ],
     "prompt_number": 4
    },
    {
     "cell_type": "code",
     "collapsed": false,
     "input": [
      "pump(False)"
     ],
     "language": "python",
     "metadata": {},
     "outputs": [
      {
       "output_type": "stream",
       "stream": "stdout",
       "text": [
        "Status:{u'Ditch': u'780', u'PC': u'0', u'NC': u'0', u'STen': u'0', u'N': u'0', u'P': u'0', u'S': u'0', u'ST': u'0', u'SC': u'0', u'Sump': u'28'}\n"
       ]
      }
     ],
     "prompt_number": 13
    },
    {
     "cell_type": "code",
     "collapsed": false,
     "input": [],
     "language": "python",
     "metadata": {},
     "outputs": []
    }
   ],
   "metadata": {}
  }
 ]
}