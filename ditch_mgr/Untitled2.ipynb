{
 "metadata": {
  "name": "",
  "signature": "sha256:1b1c1b63cc2fb10aa8d4cdcba78be2c4a0f89885139f3e45a55253f63c0519b7"
 },
 "nbformat": 3,
 "nbformat_minor": 0,
 "worksheets": []
}